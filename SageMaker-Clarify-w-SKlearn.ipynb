{
 "cells": [
  {
   "cell_type": "markdown",
   "id": "1b84c609",
   "metadata": {},
   "source": [
    "# Use SKlearn and Amazon SageMaker Clarify\n",
    "_**Run Amazon SageMaker Clarify processing after you trained a model**_\n",
    "\n",
    "---\n",
    "\n",
    "Take introduction from here:\n",
    "\n",
    "https://github.com/aws/amazon-sagemaker-examples/blob/master/introduction_to_amazon_algorithms/linear_learner_abalone/Linear_Learner_Regression_csv_format.ipynb\n",
    "\n",
    "## Contents\n",
    "1. [Introduction](#Introduction)\n",
    "2. [Setup](#Setup)\n",
    "  1. [Source the libraries](#Source-the-libraries)\n",
    "  2. [Set S3 bucket and data prefix](#Set-S3-bucket-and-data-prefix)\n",
    "  3. [Set role and global vars](#Set-role-and-global-vars)\n",
    "3. [Load the data](#Load-the-data)\n",
    "4. [Upload the data to S3](#Upload-the-data-to-S3)\n",
    "5. [Train a SKLearn estimator](#Train-a-SKLearn-estimator)\n",
    "6. [Amazon SageMaker Clarify](#Amazon-SageMaker-Clarify)\n",
    "\n",
    "---"
   ]
  },
  {
   "cell_type": "markdown",
   "id": "4e96395a",
   "metadata": {},
   "source": [
    "## Introduction\n",
    "\n",
    "This notebook demonstrates the use of Amazon SageMaker SKLearn to train a regression model. \n",
    "\n",
    "We use the [Abalone data](https://datahub.io/machine-learning/abalone), originally from the [UCI data repository](https://archive.ics.uci.edu/ml/datasets/abalone). More details about the original dataset can be found [here](https://archive.ics.uci.edu/ml/machine-learning-databases/abalone/abalone.names).\n",
    "\n",
    "---\n",
    "## Setup\n",
    "\n",
    "This notebook was tested in Amazon SageMaker notebook on a ml.t3.medium instance with Python 3 (conda_python3) kernel.\n",
    "\n",
    "Let's start by specifying:\n",
    "1. Sourcing libraries\n",
    "2. The S3 bucket and prefix that you want to use for training and model data. This should be within the same region as the Notebook Instance, training, and hosting.\n",
    "3. The IAM role arn used to give training and hosting access to your data. See the documentation for how to create these. Note, if more than one role is required for notebook instances, training, and/or hosting, please replace the boto regexp with a the appropriate full IAM role arn string(s).\n",
    "4. The global variables used later for training the model"
   ]
  },
  {
   "cell_type": "markdown",
   "id": "ad4680fa",
   "metadata": {},
   "source": [
    "### Source the libraries"
   ]
  },
  {
   "cell_type": "code",
   "execution_count": 1,
   "id": "ee42db9f",
   "metadata": {},
   "outputs": [],
   "source": [
    "import sagemaker\n",
    "from sagemaker import get_execution_role\n",
    "from sagemaker.sklearn.estimator import SKLearn\n",
    "import pandas as pd\n",
    "import numpy as np\n",
    "import urllib\n",
    "import boto3\n",
    "import json\n",
    "import os\n",
    "import time\n",
    "import matplotlib.pyplot as plt"
   ]
  },
  {
   "cell_type": "markdown",
   "id": "d1c2010f",
   "metadata": {},
   "source": [
    "### Set S3 bucket and data prefix"
   ]
  },
  {
   "cell_type": "code",
   "execution_count": 2,
   "id": "ccc37199",
   "metadata": {},
   "outputs": [],
   "source": [
    "# Provide information to where the training and validation data will be uploaded to \n",
    "S3_BUCKET = 'sagemaker-clarify-demo' # YOUR_S3_BUCKET\n",
    "PREFIX = 'abalone-clarify-notebook'\n",
    "DATA_PREFIX = f'{PREFIX}/prepared_data'"
   ]
  },
  {
   "cell_type": "markdown",
   "id": "e64455c5",
   "metadata": {},
   "source": [
    "### Set role and global vars"
   ]
  },
  {
   "cell_type": "code",
   "execution_count": 3,
   "id": "f8fa69b3",
   "metadata": {},
   "outputs": [],
   "source": [
    "# Get a SageMaker-compatible role used by this function and the session.\n",
    "sagemaker_session = sagemaker.Session()\n",
    "region = sagemaker_session.boto_region_name\n",
    "role = get_execution_role()\n",
    "\n",
    "# Set your instance count and type\n",
    "framework_version = '0.23-1'\n",
    "instance_type = 'ml.m5.xlarge'\n",
    "instance_count = 1\n",
    "\n",
    "# Set your code folder\n",
    "source_dir = 'model/'\n",
    "entry_point = 'predictor.py'"
   ]
  },
  {
   "cell_type": "markdown",
   "id": "646a34e6",
   "metadata": {},
   "source": [
    "## Load the data"
   ]
  },
  {
   "cell_type": "markdown",
   "id": "aa0f8d52",
   "metadata": {},
   "source": [
    "Read the dataset from your raw input prefix within S3"
   ]
  },
  {
   "cell_type": "code",
   "execution_count": 4,
   "id": "98d2b703",
   "metadata": {},
   "outputs": [],
   "source": [
    "df = pd.read_csv('https://datahub.io/machine-learning/abalone/r/abalone.csv')\n",
    "cols = [x if \"rings\" not in x else \"Rings\" for x in df.columns]\n",
    "df.columns = cols"
   ]
  },
  {
   "cell_type": "code",
   "execution_count": 5,
   "id": "eba9d64f",
   "metadata": {},
   "outputs": [
    {
     "data": {
      "text/html": [
       "<div>\n",
       "<style scoped>\n",
       "    .dataframe tbody tr th:only-of-type {\n",
       "        vertical-align: middle;\n",
       "    }\n",
       "\n",
       "    .dataframe tbody tr th {\n",
       "        vertical-align: top;\n",
       "    }\n",
       "\n",
       "    .dataframe thead th {\n",
       "        text-align: right;\n",
       "    }\n",
       "</style>\n",
       "<table border=\"1\" class=\"dataframe\">\n",
       "  <thead>\n",
       "    <tr style=\"text-align: right;\">\n",
       "      <th></th>\n",
       "      <th>Sex</th>\n",
       "      <th>Length</th>\n",
       "      <th>Diameter</th>\n",
       "      <th>Height</th>\n",
       "      <th>Whole_weight</th>\n",
       "      <th>Shucked_weight</th>\n",
       "      <th>Viscera_weight</th>\n",
       "      <th>Shell_weight</th>\n",
       "      <th>Rings</th>\n",
       "    </tr>\n",
       "  </thead>\n",
       "  <tbody>\n",
       "    <tr>\n",
       "      <th>0</th>\n",
       "      <td>M</td>\n",
       "      <td>0.455</td>\n",
       "      <td>0.365</td>\n",
       "      <td>0.095</td>\n",
       "      <td>0.5140</td>\n",
       "      <td>0.2245</td>\n",
       "      <td>0.1010</td>\n",
       "      <td>0.150</td>\n",
       "      <td>15</td>\n",
       "    </tr>\n",
       "    <tr>\n",
       "      <th>1</th>\n",
       "      <td>M</td>\n",
       "      <td>0.350</td>\n",
       "      <td>0.265</td>\n",
       "      <td>0.090</td>\n",
       "      <td>0.2255</td>\n",
       "      <td>0.0995</td>\n",
       "      <td>0.0485</td>\n",
       "      <td>0.070</td>\n",
       "      <td>7</td>\n",
       "    </tr>\n",
       "    <tr>\n",
       "      <th>2</th>\n",
       "      <td>F</td>\n",
       "      <td>0.530</td>\n",
       "      <td>0.420</td>\n",
       "      <td>0.135</td>\n",
       "      <td>0.6770</td>\n",
       "      <td>0.2565</td>\n",
       "      <td>0.1415</td>\n",
       "      <td>0.210</td>\n",
       "      <td>9</td>\n",
       "    </tr>\n",
       "    <tr>\n",
       "      <th>3</th>\n",
       "      <td>M</td>\n",
       "      <td>0.440</td>\n",
       "      <td>0.365</td>\n",
       "      <td>0.125</td>\n",
       "      <td>0.5160</td>\n",
       "      <td>0.2155</td>\n",
       "      <td>0.1140</td>\n",
       "      <td>0.155</td>\n",
       "      <td>10</td>\n",
       "    </tr>\n",
       "    <tr>\n",
       "      <th>4</th>\n",
       "      <td>I</td>\n",
       "      <td>0.330</td>\n",
       "      <td>0.255</td>\n",
       "      <td>0.080</td>\n",
       "      <td>0.2050</td>\n",
       "      <td>0.0895</td>\n",
       "      <td>0.0395</td>\n",
       "      <td>0.055</td>\n",
       "      <td>7</td>\n",
       "    </tr>\n",
       "  </tbody>\n",
       "</table>\n",
       "</div>"
      ],
      "text/plain": [
       "  Sex  Length  Diameter  Height  Whole_weight  Shucked_weight  Viscera_weight  \\\n",
       "0   M   0.455     0.365   0.095        0.5140          0.2245          0.1010   \n",
       "1   M   0.350     0.265   0.090        0.2255          0.0995          0.0485   \n",
       "2   F   0.530     0.420   0.135        0.6770          0.2565          0.1415   \n",
       "3   M   0.440     0.365   0.125        0.5160          0.2155          0.1140   \n",
       "4   I   0.330     0.255   0.080        0.2050          0.0895          0.0395   \n",
       "\n",
       "   Shell_weight  Rings  \n",
       "0         0.150     15  \n",
       "1         0.070      7  \n",
       "2         0.210      9  \n",
       "3         0.155     10  \n",
       "4         0.055      7  "
      ]
     },
     "execution_count": 5,
     "metadata": {},
     "output_type": "execute_result"
    }
   ],
   "source": [
    "df.head()"
   ]
  },
  {
   "cell_type": "markdown",
   "id": "ec695dc8",
   "metadata": {},
   "source": [
    "Define the target column of the data set for later referencing, also within Clarify"
   ]
  },
  {
   "cell_type": "code",
   "execution_count": 6,
   "id": "4dca11ad",
   "metadata": {},
   "outputs": [],
   "source": [
    "target_col = 'Rings'"
   ]
  },
  {
   "cell_type": "code",
   "execution_count": 7,
   "id": "2b246751",
   "metadata": {},
   "outputs": [],
   "source": [
    "# X: input features - this is what your algorithm takes for learning\n",
    "# y: target - this is what your algorithm will predict\n",
    "X = df.drop(target_col, axis=1)\n",
    "y = df[target_col]"
   ]
  },
  {
   "cell_type": "markdown",
   "id": "2d808ef6",
   "metadata": {},
   "source": [
    "Use the train_test_split function to split your data. Don't forget to set a random_state to ensure reproduceability!"
   ]
  },
  {
   "cell_type": "code",
   "execution_count": 8,
   "id": "6fc7ddb0",
   "metadata": {},
   "outputs": [],
   "source": [
    "from sklearn.model_selection import train_test_split\n",
    "# Split the data into 70% training and 30% validation data\n",
    "X_train, X_val, y_train, y_val = train_test_split(X, y, test_size=0.3, random_state=42)"
   ]
  },
  {
   "cell_type": "markdown",
   "id": "8376786e",
   "metadata": {},
   "source": [
    "SageMaker algorithms and features require the target column to come in first place"
   ]
  },
  {
   "cell_type": "code",
   "execution_count": 9,
   "id": "b6810676",
   "metadata": {},
   "outputs": [],
   "source": [
    "train = pd.concat([y_train, X_train], axis=1)\n",
    "val = pd.concat([y_val, X_val], axis=1)"
   ]
  },
  {
   "cell_type": "markdown",
   "id": "89e46f5a",
   "metadata": {},
   "source": [
    "## Upload the data to S3\n",
    "The data must lie in S3 to make it consumable by the SKLearn container and Clarify."
   ]
  },
  {
   "cell_type": "markdown",
   "id": "19986c69",
   "metadata": {},
   "source": [
    "Save your data locally first: training, validation and the features of the validation set for Clarify"
   ]
  },
  {
   "cell_type": "code",
   "execution_count": 15,
   "id": "5f9abcc9",
   "metadata": {},
   "outputs": [],
   "source": [
    "train.to_csv('train_data.csv', index=False) # training data\n",
    "val.to_csv('val_data.csv', index=False) # validation data\n",
    "baseline = train.agg({'Sex': 'mode', \n",
    "                      'Length': 'mean', \n",
    "                      'Length': 'mean', \n",
    "                      'Diameter': 'mean', \n",
    "                      'Height': 'mean', \n",
    "                      'Whole_weight': 'mean', \n",
    "                      'Shucked_weight': 'mean', \n",
    "                      'Viscera_weight': 'mean', \n",
    "                      'Shell_weight': 'mean'}) # used in SageMaker Clarify: only store your features\n",
    "baseline.to_csv('baseline.csv', index=False, header=None)"
   ]
  },
  {
   "cell_type": "code",
   "execution_count": 22,
   "id": "a9734364",
   "metadata": {},
   "outputs": [],
   "source": [
    "# write the columns to be one hot encoded and the column names, in the same order as in the training data into a config file\n",
    "# this config file will be read during training and prediction to one hot encode the columns \n",
    "config_data = {\n",
    "    'one_hot_encoding': ['Sex'], \n",
    "    'numeric': ['Length', 'Diameter', 'Height', 'Whole_weight', 'Shucked_weight', 'Viscera_weight', 'Shell_weight'],\n",
    "    'header': train.columns.tolist()\n",
    "}\n",
    "with open('config_data.json', 'w') as outfile:\n",
    "    json.dump(config_data, outfile)"
   ]
  },
  {
   "cell_type": "markdown",
   "id": "3073ee90",
   "metadata": {},
   "source": [
    "Upload the data to S3 so it can be consumed by SageMaker training job and Clarify"
   ]
  },
  {
   "cell_type": "code",
   "execution_count": 23,
   "id": "78689eb1",
   "metadata": {},
   "outputs": [],
   "source": [
    "from sagemaker.s3 import S3Uploader\n",
    "from sagemaker.inputs import TrainingInput\n",
    "train_uri = S3Uploader.upload('train_data.csv', f's3://{S3_BUCKET}/{DATA_PREFIX}')\n",
    "val_uri = S3Uploader.upload('val_data.csv', f's3://{S3_BUCKET}/{DATA_PREFIX}')\n",
    "baseline_uri = S3Uploader.upload('baseline.csv', f's3://{S3_BUCKET}/{DATA_PREFIX}')\n",
    "config_uri = S3Uploader.upload('config_data.json', f's3://{S3_BUCKET}/{DATA_PREFIX}')"
   ]
  },
  {
   "cell_type": "code",
   "execution_count": 24,
   "id": "d2ce6d41",
   "metadata": {},
   "outputs": [],
   "source": [
    "# Set training input for the SKlearn estimator (not necessary but recommended)\n",
    "train_data = TrainingInput(train_uri, content_type='csv')\n",
    "validation_data = TrainingInput(val_uri, content_type='csv')\n",
    "config_data = TrainingInput(config_uri, content_type='json')"
   ]
  },
  {
   "cell_type": "markdown",
   "id": "a14f4d15",
   "metadata": {},
   "source": [
    "## Train a SKLearn estimator\n",
    "\n",
    "Define an estimator to create a model upon which clarify provides explainability. This could be any estimator from the builtin algorithms (https://docs.aws.amazon.com/sagemaker/latest/dg/algos.html) or a Base Estimator like Sklearn or similar. \n",
    "\n",
    "The model class can be either classifiction or regression. \n",
    "\n",
    "As an example the following uses the SKLearn Base estimator to train a RandomForestRegressor on the underlying data. Please see the file model/predictor.py for a definition of the SKLearn Base estimator which will be used in the following.\n",
    "\n",
    "For more info regarding the SKLearn container please visit: https://sagemaker.readthedocs.io/en/stable/frameworks/sklearn/sagemaker.sklearn.html#scikit-learn-estimator"
   ]
  },
  {
   "cell_type": "code",
   "execution_count": 25,
   "id": "877ec42d",
   "metadata": {},
   "outputs": [],
   "source": [
    "# Set the hyperparamters for this RandomForestRegressor. In this simple example only 3 Hyperparamters are permitted\n",
    "hyperparameters = {\n",
    "    'n_estimators': 100,\n",
    "    'max_depth': 10,\n",
    "    'max_features': 'sqrt',\n",
    "    'random_state': 42\n",
    "    }\n",
    "sklearn = SKLearn(\n",
    "    entry_point=entry_point,\n",
    "    source_dir=source_dir,\n",
    "    hyperparameters=hyperparameters,\n",
    "    role=role,\n",
    "    instance_count=instance_count,\n",
    "    instance_type=instance_type,\n",
    "    framework_version=framework_version,\n",
    "    sagemaker_session=sagemaker_session,\n",
    "    #code_location=f's3://{S3_BUCKET}/{PREFIX}/model/',\n",
    "    output_path=f's3://{S3_BUCKET}/{PREFIX}/model/',\n",
    "    enable_sagemaker_metrics=True,\n",
    "    metric_definitions=[\n",
    "        {\n",
    "            'Name': 'train:mae',\n",
    "            'Regex': 'Train_mae=(.*?);'\n",
    "        },\n",
    "        {\n",
    "            'Name': 'validation:mae',\n",
    "            'Regex': 'Validation_mae=(.*?);'\n",
    "        }\n",
    "    ])"
   ]
  },
  {
   "cell_type": "code",
   "execution_count": 26,
   "id": "d4c6d0e4",
   "metadata": {},
   "outputs": [
    {
     "name": "stdout",
     "output_type": "stream",
     "text": [
      "2021-05-06 16:46:00 Starting - Starting the training job...\n",
      "2021-05-06 16:46:24 Starting - Launching requested ML instancesProfilerReport-1620319560: InProgress\n",
      "......\n",
      "2021-05-06 16:47:24 Starting - Preparing the instances for training......\n",
      "2021-05-06 16:48:25 Downloading - Downloading input data\n",
      "2021-05-06 16:48:25 Training - Downloading the training image.....\u001b[34m2021-05-06 16:49:12,230 sagemaker-containers INFO     Imported framework sagemaker_sklearn_container.training\u001b[0m\n",
      "\u001b[34m2021-05-06 16:49:12,233 sagemaker-training-toolkit INFO     No GPUs detected (normal if no gpus installed)\u001b[0m\n",
      "\u001b[34m2021-05-06 16:49:12,248 sagemaker_sklearn_container.training INFO     Invoking user training script.\u001b[0m\n",
      "\u001b[34m2021-05-06 16:49:12,546 sagemaker-training-toolkit INFO     No GPUs detected (normal if no gpus installed)\u001b[0m\n",
      "\u001b[34m2021-05-06 16:49:13,167 sagemaker-training-toolkit INFO     No GPUs detected (normal if no gpus installed)\u001b[0m\n",
      "\u001b[34m2021-05-06 16:49:13,178 sagemaker-training-toolkit INFO     No GPUs detected (normal if no gpus installed)\u001b[0m\n",
      "\u001b[34m2021-05-06 16:49:13,187 sagemaker-training-toolkit INFO     Invoking user script\n",
      "\u001b[0m\n",
      "\u001b[34mTraining Env:\n",
      "\u001b[0m\n",
      "\u001b[34m{\n",
      "    \"additional_framework_parameters\": {},\n",
      "    \"channel_input_dirs\": {\n",
      "        \"config\": \"/opt/ml/input/data/config\",\n",
      "        \"validation\": \"/opt/ml/input/data/validation\",\n",
      "        \"train\": \"/opt/ml/input/data/train\"\n",
      "    },\n",
      "    \"current_host\": \"algo-1\",\n",
      "    \"framework_module\": \"sagemaker_sklearn_container.training:main\",\n",
      "    \"hosts\": [\n",
      "        \"algo-1\"\n",
      "    ],\n",
      "    \"hyperparameters\": {\n",
      "        \"max_features\": \"sqrt\",\n",
      "        \"max_depth\": 10,\n",
      "        \"n_estimators\": 100,\n",
      "        \"random_state\": 42\n",
      "    },\n",
      "    \"input_config_dir\": \"/opt/ml/input/config\",\n",
      "    \"input_data_config\": {\n",
      "        \"config\": {\n",
      "            \"ContentType\": \"json\",\n",
      "            \"TrainingInputMode\": \"File\",\n",
      "            \"S3DistributionType\": \"FullyReplicated\",\n",
      "            \"RecordWrapperType\": \"None\"\n",
      "        },\n",
      "        \"validation\": {\n",
      "            \"ContentType\": \"csv\",\n",
      "            \"TrainingInputMode\": \"File\",\n",
      "            \"S3DistributionType\": \"FullyReplicated\",\n",
      "            \"RecordWrapperType\": \"None\"\n",
      "        },\n",
      "        \"train\": {\n",
      "            \"ContentType\": \"csv\",\n",
      "            \"TrainingInputMode\": \"File\",\n",
      "            \"S3DistributionType\": \"FullyReplicated\",\n",
      "            \"RecordWrapperType\": \"None\"\n",
      "        }\n",
      "    },\n",
      "    \"input_dir\": \"/opt/ml/input\",\n",
      "    \"is_master\": true,\n",
      "    \"job_name\": \"sagemaker-scikit-learn-2021-05-06-16-46-00-049\",\n",
      "    \"log_level\": 20,\n",
      "    \"master_hostname\": \"algo-1\",\n",
      "    \"model_dir\": \"/opt/ml/model\",\n",
      "    \"module_dir\": \"s3://sagemaker-clarify-demo-sabina/sagemaker-scikit-learn-2021-05-06-16-46-00-049/source/sourcedir.tar.gz\",\n",
      "    \"module_name\": \"predictor\",\n",
      "    \"network_interface_name\": \"eth0\",\n",
      "    \"num_cpus\": 4,\n",
      "    \"num_gpus\": 0,\n",
      "    \"output_data_dir\": \"/opt/ml/output/data\",\n",
      "    \"output_dir\": \"/opt/ml/output\",\n",
      "    \"output_intermediate_dir\": \"/opt/ml/output/intermediate\",\n",
      "    \"resource_config\": {\n",
      "        \"current_host\": \"algo-1\",\n",
      "        \"hosts\": [\n",
      "            \"algo-1\"\n",
      "        ],\n",
      "        \"network_interface_name\": \"eth0\"\n",
      "    },\n",
      "    \"user_entry_point\": \"predictor.py\"\u001b[0m\n",
      "\u001b[34m}\n",
      "\u001b[0m\n",
      "\u001b[34mEnvironment variables:\n",
      "\u001b[0m\n",
      "\u001b[34mSM_HOSTS=[\"algo-1\"]\u001b[0m\n",
      "\u001b[34mSM_NETWORK_INTERFACE_NAME=eth0\u001b[0m\n",
      "\u001b[34mSM_HPS={\"max_depth\":10,\"max_features\":\"sqrt\",\"n_estimators\":100,\"random_state\":42}\u001b[0m\n",
      "\u001b[34mSM_USER_ENTRY_POINT=predictor.py\u001b[0m\n",
      "\u001b[34mSM_FRAMEWORK_PARAMS={}\u001b[0m\n",
      "\u001b[34mSM_RESOURCE_CONFIG={\"current_host\":\"algo-1\",\"hosts\":[\"algo-1\"],\"network_interface_name\":\"eth0\"}\u001b[0m\n",
      "\u001b[34mSM_INPUT_DATA_CONFIG={\"config\":{\"ContentType\":\"json\",\"RecordWrapperType\":\"None\",\"S3DistributionType\":\"FullyReplicated\",\"TrainingInputMode\":\"File\"},\"train\":{\"ContentType\":\"csv\",\"RecordWrapperType\":\"None\",\"S3DistributionType\":\"FullyReplicated\",\"TrainingInputMode\":\"File\"},\"validation\":{\"ContentType\":\"csv\",\"RecordWrapperType\":\"None\",\"S3DistributionType\":\"FullyReplicated\",\"TrainingInputMode\":\"File\"}}\u001b[0m\n",
      "\u001b[34mSM_OUTPUT_DATA_DIR=/opt/ml/output/data\u001b[0m\n",
      "\u001b[34mSM_CHANNELS=[\"config\",\"train\",\"validation\"]\u001b[0m\n",
      "\u001b[34mSM_CURRENT_HOST=algo-1\u001b[0m\n",
      "\u001b[34mSM_MODULE_NAME=predictor\u001b[0m\n",
      "\u001b[34mSM_LOG_LEVEL=20\u001b[0m\n",
      "\u001b[34mSM_FRAMEWORK_MODULE=sagemaker_sklearn_container.training:main\u001b[0m\n",
      "\u001b[34mSM_INPUT_DIR=/opt/ml/input\u001b[0m\n",
      "\u001b[34mSM_INPUT_CONFIG_DIR=/opt/ml/input/config\u001b[0m\n",
      "\u001b[34mSM_OUTPUT_DIR=/opt/ml/output\u001b[0m\n",
      "\u001b[34mSM_NUM_CPUS=4\u001b[0m\n",
      "\u001b[34mSM_NUM_GPUS=0\u001b[0m\n",
      "\u001b[34mSM_MODEL_DIR=/opt/ml/model\u001b[0m\n",
      "\u001b[34mSM_MODULE_DIR=s3://sagemaker-clarify-demo-sabina/sagemaker-scikit-learn-2021-05-06-16-46-00-049/source/sourcedir.tar.gz\u001b[0m\n",
      "\u001b[34mSM_TRAINING_ENV={\"additional_framework_parameters\":{},\"channel_input_dirs\":{\"config\":\"/opt/ml/input/data/config\",\"train\":\"/opt/ml/input/data/train\",\"validation\":\"/opt/ml/input/data/validation\"},\"current_host\":\"algo-1\",\"framework_module\":\"sagemaker_sklearn_container.training:main\",\"hosts\":[\"algo-1\"],\"hyperparameters\":{\"max_depth\":10,\"max_features\":\"sqrt\",\"n_estimators\":100,\"random_state\":42},\"input_config_dir\":\"/opt/ml/input/config\",\"input_data_config\":{\"config\":{\"ContentType\":\"json\",\"RecordWrapperType\":\"None\",\"S3DistributionType\":\"FullyReplicated\",\"TrainingInputMode\":\"File\"},\"train\":{\"ContentType\":\"csv\",\"RecordWrapperType\":\"None\",\"S3DistributionType\":\"FullyReplicated\",\"TrainingInputMode\":\"File\"},\"validation\":{\"ContentType\":\"csv\",\"RecordWrapperType\":\"None\",\"S3DistributionType\":\"FullyReplicated\",\"TrainingInputMode\":\"File\"}},\"input_dir\":\"/opt/ml/input\",\"is_master\":true,\"job_name\":\"sagemaker-scikit-learn-2021-05-06-16-46-00-049\",\"log_level\":20,\"master_hostname\":\"algo-1\",\"model_dir\":\"/opt/ml/model\",\"module_dir\":\"s3://sagemaker-clarify-demo-sabina/sagemaker-scikit-learn-2021-05-06-16-46-00-049/source/sourcedir.tar.gz\",\"module_name\":\"predictor\",\"network_interface_name\":\"eth0\",\"num_cpus\":4,\"num_gpus\":0,\"output_data_dir\":\"/opt/ml/output/data\",\"output_dir\":\"/opt/ml/output\",\"output_intermediate_dir\":\"/opt/ml/output/intermediate\",\"resource_config\":{\"current_host\":\"algo-1\",\"hosts\":[\"algo-1\"],\"network_interface_name\":\"eth0\"},\"user_entry_point\":\"predictor.py\"}\u001b[0m\n",
      "\u001b[34mSM_USER_ARGS=[\"--max_depth\",\"10\",\"--max_features\",\"sqrt\",\"--n_estimators\",\"100\",\"--random_state\",\"42\"]\u001b[0m\n",
      "\u001b[34mSM_OUTPUT_INTERMEDIATE_DIR=/opt/ml/output/intermediate\u001b[0m\n",
      "\u001b[34mSM_CHANNEL_CONFIG=/opt/ml/input/data/config\u001b[0m\n",
      "\u001b[34mSM_CHANNEL_VALIDATION=/opt/ml/input/data/validation\u001b[0m\n",
      "\u001b[34mSM_CHANNEL_TRAIN=/opt/ml/input/data/train\u001b[0m\n",
      "\u001b[34mSM_HP_MAX_FEATURES=sqrt\u001b[0m\n",
      "\u001b[34mSM_HP_MAX_DEPTH=10\u001b[0m\n",
      "\u001b[34mSM_HP_N_ESTIMATORS=100\u001b[0m\n",
      "\u001b[34mSM_HP_RANDOM_STATE=42\u001b[0m\n",
      "\u001b[34mPYTHONPATH=/opt/ml/code:/miniconda3/bin:/miniconda3/lib/python37.zip:/miniconda3/lib/python3.7:/miniconda3/lib/python3.7/lib-dynload:/miniconda3/lib/python3.7/site-packages\n",
      "\u001b[0m\n",
      "\u001b[34mInvoking script with the following command:\n",
      "\u001b[0m\n",
      "\u001b[34m/miniconda3/bin/python predictor.py --max_depth 10 --max_features sqrt --n_estimators 100 --random_state 42\n",
      "\n",
      "\u001b[0m\n",
      "\u001b[34mTrain_mae=1.0292093132963624;\u001b[0m\n",
      "\u001b[34mValidation_mae=1.5265188347826182;\u001b[0m\n",
      "\u001b[34mSaved model!\u001b[0m\n",
      "\u001b[34m2021-05-06 16:49:14,854 sagemaker-containers INFO     Reporting training SUCCESS\u001b[0m\n",
      "\n",
      "2021-05-06 16:49:26 Uploading - Uploading generated training model\n",
      "2021-05-06 16:49:26 Completed - Training job completed\n",
      "Training seconds: 81\n",
      "Billable seconds: 81\n"
     ]
    }
   ],
   "source": [
    "# Train the model\n",
    "sklearn.fit({\n",
    "    'train': train_data,\n",
    "    'validation': validation_data,\n",
    "    'config': config_data}, wait=True)"
   ]
  },
  {
   "cell_type": "markdown",
   "id": "5c64cb72",
   "metadata": {},
   "source": [
    "### Create a SageMaker model for Amazon SageMaker Clarify\n",
    "Create an SageMaker model from the SKLearn estimator"
   ]
  },
  {
   "cell_type": "code",
   "execution_count": 27,
   "id": "11148a8a",
   "metadata": {},
   "outputs": [
    {
     "data": {
      "text/plain": [
       "'sagemaker-sklearn-clarify-2021-05-06-17-33-47'"
      ]
     },
     "execution_count": 27,
     "metadata": {},
     "output_type": "execute_result"
    }
   ],
   "source": [
    "from time import gmtime, strftime\n",
    "\n",
    "# generate time stamp\n",
    "uid = strftime('%Y-%m-%d-%H-%M-%S', gmtime())\n",
    "\n",
    "# Create model with model name\n",
    "model_name = 'sagemaker-sklearn-clarify-{}'.format(uid)\n",
    "model = sklearn.create_model(name=model_name)\n",
    "container_def = model.prepare_container_def()\n",
    "sagemaker_session.create_model(model.name, role, container_def)"
   ]
  },
  {
   "cell_type": "markdown",
   "id": "d2d528ff",
   "metadata": {},
   "source": [
    "## Amazon SageMaker Clarify\n",
    "Apply Clarify on the trained SKLearn model and run explainability on the model"
   ]
  },
  {
   "cell_type": "markdown",
   "id": "919d01f2",
   "metadata": {},
   "source": [
    "The next section is taken from\n",
    "\n",
    "https://sagemaker-examples.readthedocs.io/en/latest/sagemaker_processing/fairness_and_explainability/fairness_and_explainability.html\n",
    "\n",
    "and modified to this use case.\n",
    "\n",
    "The following steps are necessary to explain predictions:\n",
    "1. Create a Clarify Processor which will generate the explanations\n",
    "1. Configure the Processor with the input data, where to store the output and detailed information about the dataset columns\n",
    "1. Configure the Processor with the model to explain predictions for\n",
    "1. Configure the Processor to use the SHAP value to explain predictions. Configure the SHAP value computation.\n",
    "1. Explain the Predictions"
   ]
  },
  {
   "cell_type": "code",
   "execution_count": 28,
   "id": "01442392",
   "metadata": {},
   "outputs": [],
   "source": [
    "from sagemaker import clarify\n",
    "clarify_processor = clarify.SageMakerClarifyProcessor(role=role,\n",
    "                                                      instance_count=1,\n",
    "                                                      instance_type='ml.m5.xlarge',\n",
    "                                                      sagemaker_session=sagemaker_session)"
   ]
  },
  {
   "cell_type": "markdown",
   "id": "1a5e1464",
   "metadata": {},
   "source": [
    "A `DataConfig` object communicates some basic information about data I/O to SageMaker Clarify. We specify where to find the input dataset, where to store the output, the target column (label), the header names, and the dataset type."
   ]
  },
  {
   "cell_type": "code",
   "execution_count": 29,
   "id": "8b1089eb",
   "metadata": {},
   "outputs": [],
   "source": [
    "explainability_output_path = f's3://{S3_BUCKET}/{PREFIX}/clarify-explainability'\n",
    "explainability_data_config = clarify.DataConfig(s3_data_input_path=train_uri,\n",
    "                                s3_output_path=explainability_output_path,\n",
    "                                label=target_col, # our target column\n",
    "                                headers=train.columns.tolist(), # the columns of the training DataFrame\n",
    "                                dataset_type='text/csv')"
   ]
  },
  {
   "cell_type": "markdown",
   "id": "9b3d331d",
   "metadata": {},
   "source": [
    "A `ModelConfig` object communicates information about your trained model. To avoid additional traffic to your production models, SageMaker Clarify sets up and tears down a dedicated endpoint when processing.\n",
    "\n",
    "`accept_type` denotes the endpoint response payload format, and `content_type` denotes the payload format of request to the endpoint."
   ]
  },
  {
   "cell_type": "code",
   "execution_count": 30,
   "id": "32f33033",
   "metadata": {},
   "outputs": [],
   "source": [
    "model_config = clarify.ModelConfig(model_name=model_name,\n",
    "                                   instance_type='ml.m5.xlarge',\n",
    "                                   instance_count=1,\n",
    "                                   accept_type='text/csv',\n",
    "                                   content_type='text/csv')"
   ]
  },
  {
   "cell_type": "markdown",
   "id": "ed6d591a",
   "metadata": {},
   "source": [
    "Kernel SHAP algorithm requires a baseline (also known as background dataset). Baseline dataset type shall be the same as `dataset_type` of `DataConfig`, and baseline samples shall only include features. By definition, baseline should either be a S3 URI to the baseline dataset file, or an in-place list of samples. In this case we chose the latter we put the first sample of the test dataset to the list."
   ]
  },
  {
   "cell_type": "code",
   "execution_count": 31,
   "id": "18516a83",
   "metadata": {},
   "outputs": [],
   "source": [
    "shap_config = clarify.SHAPConfig(baseline=baseline_uri,\n",
    "                                 num_samples=20,\n",
    "                                 agg_method='mean_abs',\n",
    "                                 save_local_shap_values=True)"
   ]
  },
  {
   "cell_type": "code",
   "execution_count": 32,
   "id": "bd2adc05",
   "metadata": {},
   "outputs": [
    {
     "name": "stdout",
     "output_type": "stream",
     "text": [
      "\n",
      "Job Name:  Clarify-Explainability-2021-05-06-17-33-51-824\n",
      "Inputs:  [{'InputName': 'dataset', 'AppManaged': False, 'S3Input': {'S3Uri': 's3://sagemaker-clarify-demo-sabina/abalone-clarify-notebook/prepared_data/train_data.csv', 'LocalPath': '/opt/ml/processing/input/data', 'S3DataType': 'S3Prefix', 'S3InputMode': 'File', 'S3DataDistributionType': 'FullyReplicated', 'S3CompressionType': 'None'}}, {'InputName': 'analysis_config', 'AppManaged': False, 'S3Input': {'S3Uri': 's3://sagemaker-clarify-demo-sabina/abalone-clarify-notebook/clarify-explainability/analysis_config.json', 'LocalPath': '/opt/ml/processing/input/config', 'S3DataType': 'S3Prefix', 'S3InputMode': 'File', 'S3DataDistributionType': 'FullyReplicated', 'S3CompressionType': 'None'}}]\n",
      "Outputs:  [{'OutputName': 'analysis_result', 'AppManaged': False, 'S3Output': {'S3Uri': 's3://sagemaker-clarify-demo-sabina/abalone-clarify-notebook/clarify-explainability', 'LocalPath': '/opt/ml/processing/output', 'S3UploadMode': 'EndOfJob'}}]\n",
      ".............................\u001b[34mINFO:sagemaker-clarify-processing:Starting SageMaker Clarify Processing job\u001b[0m\n",
      "\u001b[34mINFO:analyzer.data_loading.data_loader_util:Analysis config path: /opt/ml/processing/input/config\u001b[0m\n",
      "\u001b[34mINFO:analyzer.data_loading.data_loader_util:Analysis result path: /opt/ml/processing/output\u001b[0m\n",
      "\u001b[34mINFO:analyzer.data_loading.data_loader_util:This host is algo-1.\u001b[0m\n",
      "\u001b[34mINFO:analyzer.data_loading.data_loader_util:This host is the leader.\u001b[0m\n",
      "\u001b[34mINFO:analyzer.data_loading.data_loader_util:Number of hosts in the cluster is 1.\u001b[0m\n",
      "\u001b[34mINFO:sagemaker-clarify-processing:Running Python / Pandas based analyzer.\u001b[0m\n",
      "\u001b[34mINFO:analyzer.data_loading.data_loader_util:Dataset uri: /opt/ml/processing/input/data\u001b[0m\n",
      "\u001b[34mINFO:analyzer.data_loading.data_loader_util:Dataset type: text/csv\u001b[0m\n",
      "\u001b[34mINFO:analyzer.predictor:Spinning up shadow endpoint\u001b[0m\n",
      "\u001b[34mINFO:sagemaker:Creating endpoint-config with name sagemaker-clarify-endpoint-config-1620322708-5ab6\u001b[0m\n",
      "\u001b[34mINFO:analyzer.predictor:Creating endpoint sagemaker-clarify-endpoint-1620322708-7850\u001b[0m\n",
      "\u001b[34mINFO:explainers.shap.kernel_shap:SHAP n_samples 20\u001b[0m\n",
      "\u001b[34mINFO:analyzer.predictor:Checking endpoint status\u001b[0m\n",
      "\u001b[34mINFO:analyzer.predictor:Endpoint is in service after 421 seconds\u001b[0m\n",
      "\u001b[34mINFO:analyzer.shap_analyzer:=====================================================\u001b[0m\n",
      "\u001b[34mINFO:analyzer.shap_analyzer:Shap analyzer: explaining 2923 rows, 8 columns...\u001b[0m\n",
      "\u001b[34mINFO:analyzer.shap_analyzer:=====================================================\u001b[0m\n",
      "\u001b[34mINFO:analyzer.predictor:Prediction batch size is initialized with 139810\u001b[0m\n",
      "\u001b[34mN/A% (0 of 2923) |                       | Elapsed Time: 0:00:00 ETA:  --:--:--\u001b[0m\n",
      "\u001b[34m  8% (251 of 2923) |#                    | Elapsed Time: 0:00:30 ETA:   0:05:20\u001b[0m\n",
      "\u001b[34m 16% (486 of 2923) |###                  | Elapsed Time: 0:01:00 ETA:   0:05:11\u001b[0m\n",
      "\u001b[34m 25% (741 of 2923) |#####                | Elapsed Time: 0:01:30 ETA:   0:04:16\u001b[0m\n",
      "\u001b[34m 34% (997 of 2923) |#######              | Elapsed Time: 0:02:00 ETA:   0:03:46\u001b[0m\n",
      "\u001b[34m 42% (1253 of 2923) |########            | Elapsed Time: 0:02:30 ETA:   0:03:16\u001b[0m\n",
      "\u001b[34m 51% (1510 of 2923) |##########          | Elapsed Time: 0:03:00 ETA:   0:02:45\u001b[0m\n",
      "\u001b[34m 60% (1767 of 2923) |############        | Elapsed Time: 0:03:30 ETA:   0:02:15\u001b[0m\n",
      "\u001b[34m 69% (2024 of 2923) |#############       | Elapsed Time: 0:04:00 ETA:   0:01:45\u001b[0m\n",
      "\u001b[34m 78% (2281 of 2923) |###############     | Elapsed Time: 0:04:30 ETA:   0:01:15\u001b[0m\n",
      "\u001b[34m 86% (2538 of 2923) |#################   | Elapsed Time: 0:05:00 ETA:   0:00:45\u001b[0m\n",
      "\u001b[34m 95% (2795 of 2923) |################### | Elapsed Time: 0:05:30 ETA:   0:00:14\u001b[0m\n",
      "\u001b[34m100% (2923 of 2923) |####################| Elapsed Time: 0:05:45 Time:  0:05:45\u001b[0m\n",
      "\u001b[34mINFO:analyzer.shap_analyzer:getting explanations took 345.97 seconds.\u001b[0m\n",
      "\u001b[34mINFO:analyzer.shap_analyzer:===================================================\u001b[0m\n",
      "\u001b[34mINFO:analyzer.shap_analyzer:converting explanations to tabular took 0.19 seconds.\u001b[0m\n",
      "\u001b[34mINFO:analyzer.shap_analyzer:===================================================\u001b[0m\n",
      "\u001b[34mINFO:analyzer.shap_analyzer:Wrote 2923 local explanations to: /opt/ml/processing/output/explanations_shap/out.csv, baseline used compute them to: /opt/ml/processing/output/explanations_shap/baseline.csv\u001b[0m\n",
      "\u001b[34mINFO:analyzer.shap_analyzer:writing local explanations took 0.04 seconds.\u001b[0m\n",
      "\u001b[34mINFO:analyzer.shap_analyzer:===================================================\u001b[0m\n",
      "\u001b[34mINFO:analyzer.shap_analyzer:aggregating local explanations took 0.00 seconds.\u001b[0m\n",
      "\u001b[34mINFO:analyzer.shap_analyzer:===================================================\u001b[0m\n",
      "\u001b[34mINFO:analyzer.shap_analyzer:Shap analysis finished.\u001b[0m\n",
      "\u001b[34mINFO:analyzer.predictor:Stop using endpoint: sagemaker-clarify-endpoint-1620322708-7850\u001b[0m\n",
      "\u001b[34mINFO:sagemaker:Deleting endpoint configuration with name: sagemaker-clarify-endpoint-config-1620322708-5ab6\u001b[0m\n",
      "\u001b[34mINFO:sagemaker:Deleting endpoint with name: sagemaker-clarify-endpoint-1620322708-7850\u001b[0m\n",
      "\u001b[34mINFO:analyzer.predictor:Model endpoint delivered 8.44052 requests per second and a total of 2924 requests over 346 seconds\u001b[0m\n",
      "\u001b[34mINFO:analyzer.predictor:Delivered 2924 predict calls with a total of 61384 examples.\u001b[0m\n",
      "\u001b[34m[NbConvertApp] Converting notebook /opt/ml/processing/output/report.ipynb to html\u001b[0m\n",
      "\u001b[34m[NbConvertApp] Writing 307013 bytes to /opt/ml/processing/output/report.html\u001b[0m\n",
      "\u001b[34mINFO:analyzer.report:HTML report '/opt/ml/processing/output/report.html' generated successfully.\u001b[0m\n",
      "\u001b[34mINFO:analyzer.report:PDF report '/opt/ml/processing/output/report.pdf' generated successfully.\u001b[0m\n",
      "\u001b[34mINFO:sagemaker-clarify-processing:Collected analyses: \u001b[0m\n",
      "\u001b[34m{\n",
      "    \"version\": \"1.0\",\n",
      "    \"explanations\": {\n",
      "        \"kernel_shap\": {\n",
      "            \"label0\": {\n",
      "                \"global_shap_values\": {\n",
      "                    \"Sex\": 0.48190629356040343,\n",
      "                    \"Length\": 0.4746253099340384,\n",
      "                    \"Diameter\": 0.5857106212129074,\n",
      "                    \"Height\": 0.6034382366520307,\n",
      "                    \"Whole_weight\": 0.7601108411731745,\n",
      "                    \"Shucked_weight\": 1.5231065213913553,\n",
      "                    \"Viscera_weight\": 0.4879189335991356,\n",
      "                    \"Shell_weight\": 1.642456032363892\n",
      "                },\n",
      "                \"expected_value\": 10.37101383667798\n",
      "            }\n",
      "        }\n",
      "    }\u001b[0m\n",
      "\u001b[34m}\u001b[0m\n",
      "\u001b[34mINFO:analyzer.system_util:exit_message: Completed: SageMaker XAI Analyzer ran successfully\u001b[0m\n",
      "\u001b[34m-------!\u001b[0m\n",
      "\n",
      "Time taken to run explainability: 17.95\n"
     ]
    }
   ],
   "source": [
    "s = time.time()\n",
    "clarify_processor.run_explainability(data_config=explainability_data_config,\n",
    "                                     model_config=model_config,\n",
    "                                     explainability_config=shap_config)\n",
    "print(f\"Time taken to run explainability: {(time.time()-s)/60:.2f}\")"
   ]
  },
  {
   "cell_type": "markdown",
   "id": "b845f737",
   "metadata": {},
   "source": [
    "### View explained predictions"
   ]
  },
  {
   "cell_type": "code",
   "execution_count": 34,
   "id": "ade84a0e",
   "metadata": {},
   "outputs": [
    {
     "name": "stdout",
     "output_type": "stream",
     "text": [
      "(2923, 8)\n"
     ]
    },
    {
     "data": {
      "text/plain": [
       "Shell_weight      1227\n",
       "Shucked_weight    1199\n",
       "Diameter           131\n",
       "Whole_weight       127\n",
       "Height              99\n",
       "Sex                 53\n",
       "Viscera_weight      47\n",
       "Length              40\n",
       "dtype: int64"
      ]
     },
     "execution_count": 34,
     "metadata": {},
     "output_type": "execute_result"
    }
   ],
   "source": [
    "local_explanations_out = pd.read_csv(explainability_output_path+'/explanations_shap/out.csv')\n",
    "print(local_explanations_out.shape)\n",
    "feature_names = [str.replace(c, \"_label0\", \"\") for c in local_explanations_out.columns.to_series()]\n",
    "local_explanations_out.columns = feature_names\n",
    "# which columns have the most impact per prediction\n",
    "local_explanations_out.abs().idxmax(axis=1).value_counts()"
   ]
  },
  {
   "cell_type": "code",
   "execution_count": 35,
   "id": "a6a1b081",
   "metadata": {},
   "outputs": [
    {
     "name": "stdout",
     "output_type": "stream",
     "text": [
      "Example number: 100\n",
      "\n",
      "Feature values -- Label: Rings                  9\n",
      "Sex                    M\n",
      "Length              0.63\n",
      "Diameter           0.505\n",
      "Height              0.17\n",
      "Whole_weight      1.0915\n",
      "Shucked_weight    0.4615\n",
      "Viscera_weight     0.266\n",
      "Shell_weight         0.3\n",
      "Name: 1694, dtype: object\n"
     ]
    },
    {
     "data": {
      "image/png": "[encoded data removed]",
      "text/plain": [
       "<Figure size 720x504 with 1 Axes>"
      ]
     },
     "metadata": {
      "needs_background": "light"
     },
     "output_type": "display_data"
    }
   ],
   "source": [
    "plt.figure(figsize=(10, 7))\n",
    "selected_example = 100\n",
    "print(f\"Example number: {selected_example}\")\n",
    "print(f\"\\nFeature values -- Label: {train.iloc[selected_example]}\")\n",
    "local_explanations_out.iloc[selected_example][baseline.columns.tolist()].plot(kind='bar', title='Local explanation for the example number '+str(selected_example), rot=90)\n",
    "plt.show()"
   ]
  },
  {
   "cell_type": "markdown",
   "id": "ba0064dc",
   "metadata": {},
   "source": [
    "Is the impact of the feature positive or negative with regards to the target variable"
   ]
  },
  {
   "cell_type": "code",
   "execution_count": 36,
   "id": "bbce64f8",
   "metadata": {},
   "outputs": [],
   "source": [
    "local_explanations_out['max_predictor_column'] = local_explanations_out[baseline.columns.tolist()].abs().idxmax(axis=1)\n",
    "local_explanations_out['max_predictor_column_shap_value'] = local_explanations_out.apply(lambda x: np.sign(x[x['max_predictor_column']]), axis=1)"
   ]
  },
  {
   "cell_type": "code",
   "execution_count": 37,
   "id": "29f931c3",
   "metadata": {},
   "outputs": [
    {
     "data": {
      "text/plain": [
       "max_predictor_column  max_predictor_column_shap_value\n",
       "Shell_weight           1.0                               631\n",
       "Shucked_weight         1.0                               604\n",
       "Shell_weight          -1.0                               596\n",
       "Shucked_weight        -1.0                               595\n",
       "Diameter              -1.0                               124\n",
       "Whole_weight          -1.0                                87\n",
       "Height                 1.0                                63\n",
       "Sex                   -1.0                                46\n",
       "Whole_weight           1.0                                40\n",
       "Viscera_weight        -1.0                                36\n",
       "Height                -1.0                                36\n",
       "Length                -1.0                                32\n",
       "Viscera_weight         1.0                                11\n",
       "Length                 1.0                                 8\n",
       "Sex                    1.0                                 7\n",
       "Diameter               1.0                                 7\n",
       "dtype: int64"
      ]
     },
     "execution_count": 37,
     "metadata": {},
     "output_type": "execute_result"
    }
   ],
   "source": [
    "local_explanations_out[['max_predictor_column', 'max_predictor_column_shap_value']].value_counts()"
   ]
  },
  {
   "cell_type": "code",
   "execution_count": null,
   "id": "99a9bb81",
   "metadata": {},
   "outputs": [],
   "source": []
  }
 ],
 "metadata": {
  "kernelspec": {
   "display_name": "conda_python3",
   "language": "python",
   "name": "conda_python3"
  },
  "language_info": {
   "codemirror_mode": {
    "name": "ipython",
    "version": 3
   },
   "file_extension": ".py",
   "mimetype": "text/x-python",
   "name": "python",
   "nbconvert_exporter": "python",
   "pygments_lexer": "ipython3",
   "version": "3.6.13"
  }
 },
 "nbformat": 4,
 "nbformat_minor": 5
}
